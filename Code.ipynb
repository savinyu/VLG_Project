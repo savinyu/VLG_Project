{
  "nbformat": 4,
  "nbformat_minor": 0,
  "metadata": {
    "colab": {
      "provenance": [],
      "gpuType": "T4",
      "authorship_tag": "ABX9TyOvGpR2ZOqtbTr1sr5UwyHH",
      "include_colab_link": true
    },
    "kernelspec": {
      "name": "python3",
      "display_name": "Python 3"
    },
    "language_info": {
      "name": "python"
    },
    "accelerator": "GPU"
  },
  "cells": [
    {
      "cell_type": "markdown",
      "metadata": {
        "id": "view-in-github",
        "colab_type": "text"
      },
      "source": [
        "<a href=\"https://colab.research.google.com/github/savinyu/VLG_Project/blob/main/Code.ipynb\" target=\"_parent\"><img src=\"https://colab.research.google.com/assets/colab-badge.svg\" alt=\"Open In Colab\"/></a>"
      ]
    },
    {
      "cell_type": "code",
      "source": [
        "import pandas as pd\n",
        "import numpy as np\n",
        "from sklearn.model_selection import train_test_split\n",
        "from sklearn.metrics import f1_score\n",
        "from keras.models import Sequential\n",
        "from keras.layers import Conv1D, MaxPooling1D, Flatten, Dense, Dropout\n",
        "from sklearn.utils import compute_class_weight"
      ],
      "metadata": {
        "id": "mkuAmLYRTTQ0"
      },
      "execution_count": 167,
      "outputs": []
    },
    {
      "cell_type": "code",
      "source": [
        "train_df = pd.read_csv('train.csv')\n"
      ],
      "metadata": {
        "id": "uxcKdHkSTXYf"
      },
      "execution_count": 168,
      "outputs": []
    },
    {
      "cell_type": "code",
      "source": [
        "X = train_df.drop('labels', axis=1).values\n",
        "Y = train_df['labels'].values\n",
        "\n",
        "\n",
        "X = X.reshape(X.shape[0], X.shape[1], 1)\n",
        "X = X / 4\n"
      ],
      "metadata": {
        "id": "5DE0OIg9TaoV"
      },
      "execution_count": 172,
      "outputs": []
    },
    {
      "cell_type": "code",
      "source": [
        "X_train, X_test, y_train, y_test = train_test_split(X, Y, test_size=0.2, random_state=42)\n",
        "\n",
        "class_weights = compute_class_weight(class_weight='balanced', classes=np.unique(y_train), y=y_train)\n",
        "\n",
        "class_weights_dict = dict(enumerate(class_weights))"
      ],
      "metadata": {
        "id": "xnESITYRTprp"
      },
      "execution_count": 173,
      "outputs": []
    },
    {
      "cell_type": "code",
      "source": [
        "\n",
        "# Model\n",
        "model = Sequential()\n",
        "model.add(Conv1D(filters=32, kernel_size=3, activation='relu', input_shape=(1200, 1)))\n",
        "model.add(MaxPooling1D(pool_size=2))\n",
        "\n",
        "model.add(Conv1D(filters=64, kernel_size=3, strides=2, activation='relu'))\n",
        "model.add(MaxPooling1D(pool_size=2))\n",
        "\n",
        "model.add(Flatten())\n",
        "model.add(Dense(64, activation='relu'))\n",
        "model.add(Dropout(rate=0.4))\n",
        "\n",
        "model.add(Dense(64, activation='relu'))\n",
        "model.add(Dropout(rate=0.45))\n",
        "\n",
        "model.add(Dense(1, activation='sigmoid'))\n",
        "\n",
        "# tf.keras.applications.ResNet50(\n",
        "#     include_top=True,\n",
        "#     weights=\"imagenet\",\n",
        "#     input_tensor=None,\n",
        "#     input_shape=None,\n",
        "#     pooling=None,\n",
        "#     classes=1000,\n",
        "\n",
        "# )\n",
        "# tf.keras.applications.VGG19(\n",
        "#     include_top=True,\n",
        "#     weights=\"imagenet\",\n",
        "#     input_tensor=None,\n",
        "#     input_shape=None,\n",
        "#     pooling=None,\n",
        "#     classes=1000,\n",
        "#     classifier_activation=\"softmax\",\n",
        "# )\n",
        "\n",
        "\n",
        "\n",
        "model.compile(optimizer='adam', loss='binary_crossentropy', metrics=['accuracy'])\n",
        "\n"
      ],
      "metadata": {
        "colab": {
          "base_uri": "https://localhost:8080/"
        },
        "id": "sGrxthZGe9fW",
        "outputId": "841d648c-ecd7-46b0-9e95-5d40f6ce5f8f"
      },
      "execution_count": 166,
      "outputs": [
        {
          "output_type": "stream",
          "name": "stdout",
          "text": [
            "Epoch 1/10\n",
            "26/26 [==============================] - 2s 10ms/step - loss: 0.6857 - accuracy: 0.5609\n",
            "Epoch 2/10\n",
            "26/26 [==============================] - 0s 9ms/step - loss: 0.6001 - accuracy: 0.6698\n",
            "Epoch 3/10\n",
            "26/26 [==============================] - 0s 8ms/step - loss: 0.5047 - accuracy: 0.7247\n",
            "Epoch 4/10\n",
            "26/26 [==============================] - 0s 8ms/step - loss: 0.4451 - accuracy: 0.7702\n",
            "Epoch 5/10\n",
            "26/26 [==============================] - 0s 9ms/step - loss: 0.4132 - accuracy: 0.8046\n",
            "Epoch 6/10\n",
            "26/26 [==============================] - 0s 8ms/step - loss: 0.3698 - accuracy: 0.8157\n",
            "Epoch 7/10\n",
            "26/26 [==============================] - 0s 8ms/step - loss: 0.3259 - accuracy: 0.8504\n",
            "Epoch 8/10\n",
            "26/26 [==============================] - 0s 9ms/step - loss: 0.2986 - accuracy: 0.8697\n",
            "Epoch 9/10\n",
            "26/26 [==============================] - 0s 8ms/step - loss: 0.2436 - accuracy: 0.8935\n",
            "Epoch 10/10\n",
            "26/26 [==============================] - 0s 8ms/step - loss: 0.2008 - accuracy: 0.9210\n",
            "26/26 [==============================] - 0s 2ms/step\n",
            "F1 score: 0.6143497757847534\n",
            "71/71 [==============================] - 0s 2ms/step\n",
            "CSV Output Done\n"
          ]
        }
      ]
    },
    {
      "cell_type": "code",
      "source": [
        "model.fit(X_train, y_train, batch_size=128, epochs=10, class_weight=class_weights_dict)\n",
        "\n"
      ],
      "metadata": {
        "id": "UDONqVvFT8HY"
      },
      "execution_count": null,
      "outputs": []
    },
    {
      "cell_type": "code",
      "source": [
        "y_pred_probs = model.predict(X_test)\n",
        "y_pred = (y_pred_probs > 0.5).astype(int)\n",
        "f1 = f1_score(y_test, y_pred)\n",
        "print(\"F1 score:\", f1)"
      ],
      "metadata": {
        "colab": {
          "base_uri": "https://localhost:8080/"
        },
        "id": "vqvn9ImST_ny",
        "outputId": "c7f1e59e-2f7c-4790-d473-957ff8a8c7a8"
      },
      "execution_count": 174,
      "outputs": [
        {
          "output_type": "stream",
          "name": "stdout",
          "text": [
            "26/26 [==============================] - 0s 2ms/step\n",
            "F1 score: 0.6143497757847534\n"
          ]
        }
      ]
    },
    {
      "cell_type": "code",
      "source": [
        "test_df = pd.read_csv('test.csv')\n"
      ],
      "metadata": {
        "id": "4ZfdBaiEUFNR"
      },
      "execution_count": 175,
      "outputs": []
    },
    {
      "cell_type": "code",
      "source": [
        "test = test_df.drop('id', axis=1).values\n",
        "test = test.reshape(test.shape[0], test.shape[1], 1)"
      ],
      "metadata": {
        "id": "16ATlYL2UHP2"
      },
      "execution_count": 176,
      "outputs": []
    },
    {
      "cell_type": "code",
      "source": [
        "pred_probs = model.predict(test)\n",
        "predicted_labels = (pred_probs > 0.5).astype(int)\n",
        "predicted_labels = predicted_labels.reshape(predicted_labels.shape[0])"
      ],
      "metadata": {
        "colab": {
          "base_uri": "https://localhost:8080/"
        },
        "id": "3eeh8Jh3UKx9",
        "outputId": "85c9c8ac-ded7-4b8e-a936-9bb619583014"
      },
      "execution_count": 177,
      "outputs": [
        {
          "output_type": "stream",
          "name": "stdout",
          "text": [
            "71/71 [==============================] - 0s 4ms/step\n"
          ]
        }
      ]
    },
    {
      "cell_type": "code",
      "source": [
        "\n",
        "output_data = []\n",
        "for i, value in enumerate(predicted_labels):\n",
        "    output_data.append([i + 1, value])\n",
        "\n",
        "output_file = 'output.csv'\n",
        "\n",
        "with open(output_file, 'w', newline='') as file:\n",
        "    writer = csv.writer(file)\n",
        "\n",
        "    writer.writerow(['id', 'label'])\n",
        "    writer.writerows(output_data)\n",
        "\n",
        "\n",
        "\n",
        "print(\"CSV Output Done\")\n"
      ],
      "metadata": {
        "colab": {
          "base_uri": "https://localhost:8080/"
        },
        "id": "xxu0TzuvT03v",
        "outputId": "eff60d35-68fb-49e0-fd3f-9bec5f253205"
      },
      "execution_count": 178,
      "outputs": [
        {
          "output_type": "stream",
          "name": "stdout",
          "text": [
            "CSV Output Done\n"
          ]
        }
      ]
    },
    {
      "cell_type": "markdown",
      "source": [
        "Using Conv2D\n"
      ],
      "metadata": {
        "id": "0U-Mvdo84gas"
      }
    },
    {
      "cell_type": "code",
      "source": [],
      "metadata": {
        "id": "qB3NgOGV4tiP"
      },
      "execution_count": null,
      "outputs": []
    }
  ]
}