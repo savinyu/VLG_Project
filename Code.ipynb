{
  "nbformat": 4,
  "nbformat_minor": 0,
  "metadata": {
    "colab": {
      "provenance": [],
      "gpuType": "T4",
      "authorship_tag": "ABX9TyOARoL7okDHLpfx8PwqBOU3",
      "include_colab_link": true
    },
    "kernelspec": {
      "name": "python3",
      "display_name": "Python 3"
    },
    "language_info": {
      "name": "python"
    },
    "accelerator": "GPU"
  },
  "cells": [
    {
      "cell_type": "markdown",
      "metadata": {
        "id": "view-in-github",
        "colab_type": "text"
      },
      "source": [
        "<a href=\"https://colab.research.google.com/github/savinyu/VLG_Project/blob/main/Code.ipynb\" target=\"_parent\"><img src=\"https://colab.research.google.com/assets/colab-badge.svg\" alt=\"Open In Colab\"/></a>"
      ]
    },
    {
      "cell_type": "code",
      "source": [
        "import pandas as pd\n",
        "import numpy as np\n",
        "from sklearn.model_selection import train_test_split\n",
        "from sklearn.metrics import f1_score\n",
        "from keras.models import Sequential\n",
        "from keras.layers import Conv1D, MaxPooling1D, Flatten, Dense, Dropout\n",
        "from sklearn.utils import compute_class_weight\n"
      ],
      "metadata": {
        "id": "mkuAmLYRTTQ0"
      },
      "execution_count": 5,
      "outputs": []
    },
    {
      "cell_type": "code",
      "source": [
        "train_df = pd.read_csv('train.csv')\n"
      ],
      "metadata": {
        "id": "uxcKdHkSTXYf"
      },
      "execution_count": 6,
      "outputs": []
    },
    {
      "cell_type": "code",
      "source": [
        "X = train_df.drop('labels', axis=1).values\n",
        "Y = train_df['labels'].values\n",
        "\n",
        "\n",
        "X = X.reshape(X.shape[0], X.shape[1], 1)\n",
        "X = X / 4\n"
      ],
      "metadata": {
        "id": "5DE0OIg9TaoV"
      },
      "execution_count": 7,
      "outputs": []
    },
    {
      "cell_type": "code",
      "source": [
        "X_train, X_test, y_train, y_test = train_test_split(X, Y, test_size=0.2, random_state=42)\n",
        "\n",
        "class_weights = compute_class_weight(class_weight='balanced', classes=np.unique(y_train), y=y_train)\n",
        "\n",
        "class_weights_dict = dict(enumerate(class_weights))"
      ],
      "metadata": {
        "id": "xnESITYRTprp"
      },
      "execution_count": 8,
      "outputs": []
    },
    {
      "cell_type": "code",
      "source": [
        "\n",
        "# Model\n",
        "model = Sequential()\n",
        "model.add(Conv1D(filters=32, kernel_size=3, activation='relu', input_shape=(1200, 1)))\n",
        "model.add(MaxPooling1D(pool_size=2))\n",
        "\n",
        "model.add(Conv1D(filters=64, kernel_size=3, strides=2, activation='relu'))\n",
        "model.add(MaxPooling1D(pool_size=2))\n",
        "\n",
        "model.add(Flatten())\n",
        "model.add(Dense(64, activation='relu'))\n",
        "model.add(Dropout(rate=0.4))\n",
        "\n",
        "model.add(Dense(64, activation='relu'))\n",
        "model.add(Dropout(rate=0.45))\n",
        "\n",
        "model.add(Dense(1, activation='sigmoid'))\n",
        "\n",
        "# tf.keras.applications.ResNet50(\n",
        "#     include_top=True,\n",
        "#     weights=\"imagenet\",\n",
        "#     input_tensor=None,\n",
        "#     input_shape=None,\n",
        "#     pooling=None,\n",
        "#     classes=1000,\n",
        "\n",
        "# )\n",
        "# tf.keras.applications.VGG19(\n",
        "#     include_top=True,\n",
        "#     weights=\"imagenet\",\n",
        "#     input_tensor=None,\n",
        "#     input_shape=None,\n",
        "#     pooling=None,\n",
        "#     classes=1000,\n",
        "#     classifier_activation=\"softmax\",\n",
        "# )\n",
        "\n",
        "\n",
        "\n",
        "model.compile(optimizer='adam', loss='binary_crossentropy', metrics=['accuracy'])\n",
        "\n"
      ],
      "metadata": {
        "id": "sGrxthZGe9fW"
      },
      "execution_count": 9,
      "outputs": []
    },
    {
      "cell_type": "code",
      "source": [
        "model.fit(X_train, y_train, batch_size=128, epochs=10, class_weight=class_weights_dict)\n",
        "\n"
      ],
      "metadata": {
        "colab": {
          "base_uri": "https://localhost:8080/"
        },
        "id": "UDONqVvFT8HY",
        "outputId": "6360c6ee-5216-4002-b48c-51f766910f50"
      },
      "execution_count": 10,
      "outputs": [
        {
          "output_type": "stream",
          "name": "stdout",
          "text": [
            "Epoch 1/10\n",
            "1/1 [==============================] - 2s 2s/step - loss: nan - accuracy: 0.3738\n",
            "Epoch 2/10\n",
            "1/1 [==============================] - 0s 141ms/step - loss: nan - accuracy: 0.7383\n",
            "Epoch 3/10\n",
            "1/1 [==============================] - 0s 149ms/step - loss: nan - accuracy: 0.7383\n",
            "Epoch 4/10\n",
            "1/1 [==============================] - 0s 141ms/step - loss: nan - accuracy: 0.7383\n",
            "Epoch 5/10\n",
            "1/1 [==============================] - 0s 162ms/step - loss: nan - accuracy: 0.7383\n",
            "Epoch 6/10\n",
            "1/1 [==============================] - 0s 133ms/step - loss: nan - accuracy: 0.7383\n",
            "Epoch 7/10\n",
            "1/1 [==============================] - 0s 143ms/step - loss: nan - accuracy: 0.7383\n",
            "Epoch 8/10\n",
            "1/1 [==============================] - 0s 137ms/step - loss: nan - accuracy: 0.7383\n",
            "Epoch 9/10\n",
            "1/1 [==============================] - 0s 155ms/step - loss: nan - accuracy: 0.7383\n",
            "Epoch 10/10\n",
            "1/1 [==============================] - 0s 161ms/step - loss: nan - accuracy: 0.7383\n"
          ]
        },
        {
          "output_type": "execute_result",
          "data": {
            "text/plain": [
              "<keras.callbacks.History at 0x7f96f8d218a0>"
            ]
          },
          "metadata": {},
          "execution_count": 10
        }
      ]
    },
    {
      "cell_type": "code",
      "source": [
        "y_pred_probs = model.predict(X_test)\n",
        "y_pred = (y_pred_probs > 0.5).astype(int)\n",
        "f1 = f1_score(y_test, y_pred)\n",
        "print(\"F1 score:\", f1)"
      ],
      "metadata": {
        "colab": {
          "base_uri": "https://localhost:8080/"
        },
        "id": "vqvn9ImST_ny",
        "outputId": "2340a558-7f55-48ba-d3f2-7ed40e9272a1"
      },
      "execution_count": 11,
      "outputs": [
        {
          "output_type": "stream",
          "name": "stdout",
          "text": [
            "1/1 [==============================] - 0s 172ms/step\n",
            "F1 score: 0.0\n"
          ]
        }
      ]
    },
    {
      "cell_type": "code",
      "source": [
        "test_df = pd.read_csv('test.csv')\n"
      ],
      "metadata": {
        "id": "4ZfdBaiEUFNR"
      },
      "execution_count": 12,
      "outputs": []
    },
    {
      "cell_type": "code",
      "source": [
        "test = test_df.drop('id', axis=1).values\n",
        "test = test.reshape(test.shape[0], test.shape[1], 1)"
      ],
      "metadata": {
        "id": "16ATlYL2UHP2"
      },
      "execution_count": 13,
      "outputs": []
    },
    {
      "cell_type": "code",
      "source": [
        "pred_probs = model.predict(test)\n",
        "predicted_labels = (pred_probs > 0.5).astype(int)\n",
        "predicted_labels = predicted_labels.reshape(predicted_labels.shape[0])"
      ],
      "metadata": {
        "colab": {
          "base_uri": "https://localhost:8080/"
        },
        "id": "3eeh8Jh3UKx9",
        "outputId": "a77bef04-d427-42bd-98ee-70fd0dc220df"
      },
      "execution_count": 14,
      "outputs": [
        {
          "output_type": "stream",
          "name": "stdout",
          "text": [
            "6/6 [==============================] - 0s 16ms/step\n"
          ]
        }
      ]
    },
    {
      "cell_type": "code",
      "source": [
        "import csv\n",
        "output_data = []\n",
        "for i, value in enumerate(predicted_labels):\n",
        "    output_data.append([i + 1, value])\n",
        "\n",
        "output_file = 'output.csv'\n",
        "\n",
        "with open(output_file, 'w', newline='') as file:\n",
        "    writer = csv.writer(file)\n",
        "\n",
        "    writer.writerow(['id', 'label'])\n",
        "    writer.writerows(output_data)\n",
        "\n",
        "\n",
        "\n",
        "print(\"CSV Output Done\")\n"
      ],
      "metadata": {
        "colab": {
          "base_uri": "https://localhost:8080/"
        },
        "id": "xxu0TzuvT03v",
        "outputId": "884251e7-af05-4fb1-8e30-86012a6ccda9"
      },
      "execution_count": 19,
      "outputs": [
        {
          "output_type": "stream",
          "name": "stdout",
          "text": [
            "CSV Output Done\n"
          ]
        }
      ]
    },
    {
      "cell_type": "code",
      "source": [
        "from sklearn.metrics import classification_report\n",
        "\n",
        "print(classification_report(y_test,y_pred))"
      ],
      "metadata": {
        "colab": {
          "base_uri": "https://localhost:8080/"
        },
        "id": "qB3NgOGV4tiP",
        "outputId": "abd39b8e-bdf6-4ca5-e346-b79de7f3eb37"
      },
      "execution_count": 17,
      "outputs": [
        {
          "output_type": "stream",
          "name": "stdout",
          "text": [
            "              precision    recall  f1-score   support\n",
            "\n",
            "           0       0.67      1.00      0.80        18\n",
            "           1       0.00      0.00      0.00         9\n",
            "\n",
            "    accuracy                           0.67        27\n",
            "   macro avg       0.33      0.50      0.40        27\n",
            "weighted avg       0.44      0.67      0.53        27\n",
            "\n"
          ]
        },
        {
          "output_type": "stream",
          "name": "stderr",
          "text": [
            "/usr/local/lib/python3.10/dist-packages/sklearn/metrics/_classification.py:1344: UndefinedMetricWarning: Precision and F-score are ill-defined and being set to 0.0 in labels with no predicted samples. Use `zero_division` parameter to control this behavior.\n",
            "  _warn_prf(average, modifier, msg_start, len(result))\n",
            "/usr/local/lib/python3.10/dist-packages/sklearn/metrics/_classification.py:1344: UndefinedMetricWarning: Precision and F-score are ill-defined and being set to 0.0 in labels with no predicted samples. Use `zero_division` parameter to control this behavior.\n",
            "  _warn_prf(average, modifier, msg_start, len(result))\n",
            "/usr/local/lib/python3.10/dist-packages/sklearn/metrics/_classification.py:1344: UndefinedMetricWarning: Precision and F-score are ill-defined and being set to 0.0 in labels with no predicted samples. Use `zero_division` parameter to control this behavior.\n",
            "  _warn_prf(average, modifier, msg_start, len(result))\n"
          ]
        }
      ]
    }
  ]
}